{
  "cells": [
    {
      "cell_type": "markdown",
      "metadata": {
        "id": "view-in-github",
        "colab_type": "text"
      },
      "source": [
        "<a href=\"https://colab.research.google.com/github/shweta94-source/Machin-Learning/blob/Machin-Learning-project/DIGITAL_MARKETING_DATA.ipynb\" target=\"_parent\"><img src=\"https://colab.research.google.com/assets/colab-badge.svg\" alt=\"Open In Colab\"/></a>"
      ]
    },
    {
      "cell_type": "code",
      "execution_count": null,
      "id": "771969f0",
      "metadata": {
        "id": "771969f0",
        "outputId": "70de77cc-8736-49b1-c5d0-e85fea3d7b75"
      },
      "outputs": [
        {
          "name": "stdout",
          "output_type": "stream",
          "text": [
            "Python: 3.9.7 (default, Sep 16 2021, 16:59:28) [MSC v.1916 64 bit (AMD64)]\n",
            "scipy: 1.7.3\n",
            "numpy: 1.21.5\n",
            "matplotlib: 3.5.0\n",
            "pandas: 1.3.5\n",
            "sklearn: 1.0.2\n"
          ]
        }
      ],
      "source": [
        "#import & Check required libraries:\n",
        "import sys\n",
        "print('Python: {}'.format(sys.version))\n",
        "# pip install scipy\n",
        "import scipy\n",
        "print('scipy: {}'.format(scipy.__version__))\n",
        "# pip install numpy\n",
        "import numpy\n",
        "print('numpy: {}'.format(numpy.__version__))\n",
        "# pip install matplotlib\n",
        "import matplotlib\n",
        "print('matplotlib: {}'.format(matplotlib.__version__))\n",
        "# pip install pandas\n",
        "import pandas\n",
        "print('pandas: {}'.format(pandas.__version__))\n",
        "# pip install scikit-learn\n",
        "import sklearn\n",
        "print('sklearn: {}'.format(sklearn.__version__))\n"
      ]
    },
    {
      "cell_type": "code",
      "execution_count": null,
      "id": "e932908f",
      "metadata": {
        "id": "e932908f"
      },
      "outputs": [],
      "source": [
        "#Import all required libraries\n",
        "import matplotlib.pyplot as plt\n",
        "import numpy as np\n",
        "import pandas as pd\n",
        "import seaborn as sns\n",
        "from pandas.plotting import scatter_matrix\n",
        "import matplotlib.pyplot as plt\n",
        "from sklearn import preprocessing\n",
        "from sklearn import model_selection\n",
        "from sklearn.metrics import classification_report\n",
        "from sklearn.metrics import confusion_matrix\n",
        "from sklearn.metrics import accuracy_score\n",
        "from sklearn.linear_model import LogisticRegression\n",
        "from sklearn.tree import DecisionTreeClassifier\n",
        "from sklearn.neighbors import KNeighborsClassifier\n",
        "from sklearn.discriminant_analysis import LinearDiscriminantAnalysis\n",
        "from sklearn.naive_bayes import GaussianNB\n",
        "from sklearn.svm import SVC"
      ]
    },
    {
      "cell_type": "code",
      "execution_count": null,
      "id": "41bdd5bb",
      "metadata": {
        "id": "41bdd5bb"
      },
      "outputs": [],
      "source": [
        "#read CSV file from the directory\n",
        "dataset = pd.read_csv(\"DIGITAL_MARKETING_APP_DATE_GOOGLE.csv\", sep=\",\")"
      ]
    },
    {
      "cell_type": "code",
      "execution_count": null,
      "id": "f742754e",
      "metadata": {
        "id": "f742754e"
      },
      "outputs": [],
      "source": [
        "dataset.head(5)"
      ]
    },
    {
      "cell_type": "code",
      "execution_count": null,
      "id": "5a82e263",
      "metadata": {
        "id": "5a82e263"
      },
      "outputs": [],
      "source": [
        "### print dataset description ###\n",
        "print(dataset.describe())"
      ]
    },
    {
      "cell_type": "code",
      "execution_count": null,
      "id": "f6c0d098",
      "metadata": {
        "id": "f6c0d098"
      },
      "outputs": [],
      "source": [
        "print(dataset.shape)"
      ]
    },
    {
      "cell_type": "code",
      "execution_count": null,
      "id": "dc09f181",
      "metadata": {
        "id": "dc09f181"
      },
      "outputs": [],
      "source": [
        "## Using HISTOGRAM SHAPE & Figsize ##\n",
        "dataset.hist(figsize=(20,15))\n",
        "plt.show()"
      ]
    },
    {
      "cell_type": "code",
      "execution_count": null,
      "id": "38ba6fad",
      "metadata": {
        "id": "38ba6fad"
      },
      "outputs": [],
      "source": [
        "#Graph 2\n",
        "dataset.plot(figsize=(20,15))"
      ]
    },
    {
      "cell_type": "code",
      "execution_count": null,
      "id": "445ed455",
      "metadata": {
        "id": "445ed455"
      },
      "outputs": [],
      "source": [
        "#Graph 3\n",
        "dataset.plot.box(figsize=(20,15))"
      ]
    },
    {
      "cell_type": "code",
      "execution_count": null,
      "id": "785e7cb7",
      "metadata": {
        "id": "785e7cb7"
      },
      "outputs": [],
      "source": [
        "## In Matplotlib, we can draw multiple graphs in a single plot in two ways. One is by using subplot() function ##\n",
        "## here we are using the subplot this parameters allow us to add keywords to each subplot and its default value is None ##\n",
        "\n",
        "axs = dataset.plot.area(figsize=(20,15), subplots=True)"
      ]
    },
    {
      "cell_type": "code",
      "execution_count": null,
      "id": "a0047b72",
      "metadata": {
        "id": "a0047b72"
      },
      "outputs": [],
      "source": [
        " #sns.displot(dataset)"
      ]
    },
    {
      "cell_type": "code",
      "execution_count": null,
      "id": "5395ee4f",
      "metadata": {
        "id": "5395ee4f"
      },
      "outputs": [],
      "source": [
        "################# BAR GRAPH #####################\n",
        "\n",
        "# y = ['C_COMPILER', 'C_TUTORIAL', 'CSHARP_COMPILER', 'CSHARP_TUTORIAL', 'CPLUSPLUS_COMPILER', 'CPLUSPLUS_TUTORIAL', 'CALCULATORPLUS', 'CALENDARPLUS', 'COMPILERPLUS', 'CSS_TUTORIAL', 'DART_COMPILER', 'DART_TUTORIAL', 'GO_COMPILER', 'GO_TUTORIAL',\n",
        "  #      'HTML_TUTORIAL', 'JAVA_COMPILER', 'JAVA_TUTORIAL', 'JAVASCRIPT_COMPILER', 'JAVASCRIPT_TUTORIAL', 'KOTLIN_COMPILER', 'KOTLIN_TUTORIAL', 'MOTIVATIONPLUS', 'NOTESPLUS', 'PHP_COMPILER', 'PHP_TUTORIAL', 'PYTHON_COMPILER', 'PYTHON_TUTORIAL', 'RUBY_COMPILER',\n",
        "   #     'RUBY_TUTORIAL', 'SUCCESS_STORIES', 'SWIFT_COMPILER', 'SWIFT_TUTORIAL', 'TASKSPLUS', 'TIMEPLUS', 'TRAVEL_DIARIES', 'XML_TUTORIAL']\n",
        "\n",
        " #   y = dataset.C_COMPILER\n",
        "plt.figure(figsize=(150,50))\n",
        " #print(y)\n",
        "plt.bar(dataset.C_COMPILER, dataset.DATE, label=\"C_COMPILER\",color=\"c\",width=.5)\n",
        "plt.bar(dataset.C_TUTORIAL, dataset.DATE, label=\"C_TUTORIAL\",color=\"g\",width=.5)\n",
        "plt.legend()\n",
        "plt.show()"
      ]
    },
    {
      "cell_type": "code",
      "execution_count": null,
      "id": "ecc33f4e",
      "metadata": {
        "id": "ecc33f4e"
      },
      "outputs": [],
      "source": [
        "### SCATTER GRAPH ###\n",
        "\n",
        "plt.figure(figsize=(150,50))\n",
        "plt.scatter(dataset.C_COMPILER, dataset.DATE, label=\"C_COMPILER\",color=\"c\")\n",
        "plt.scatter(dataset.C_TUTORIAL, dataset.DATE, label=\"C_TUTORIAL\",color=\"g\")\n",
        "plt.legend()\n",
        "plt.show()"
      ]
    },
    {
      "cell_type": "code",
      "execution_count": null,
      "id": "ec9096eb",
      "metadata": {
        "id": "ec9096eb"
      },
      "outputs": [],
      "source": [
        "## STACK/AREA PLOT ##\n",
        "\n",
        "plt.figure(figsize=(30,30))\n",
        "plt.plot([],[],color='c', label='DATE', linewidth=5)\n",
        "plt.plot([],[],color='g', label='C_COMPILER', linewidth=5)\n",
        "plt.stackplot(dataset.DATE,dataset.C_COMPILER,dataset.C_TUTORIAL,colors=['c','g'])\n",
        "plt.legend()\n",
        "plt.show()"
      ]
    },
    {
      "cell_type": "code",
      "execution_count": null,
      "id": "3a43c757",
      "metadata": {
        "id": "3a43c757"
      },
      "outputs": [],
      "source": [
        ""
      ]
    }
  ],
  "metadata": {
    "kernelspec": {
      "display_name": "Python 3 (ipykernel)",
      "language": "python",
      "name": "python3"
    },
    "language_info": {
      "codemirror_mode": {
        "name": "ipython",
        "version": 3
      },
      "file_extension": ".py",
      "mimetype": "text/x-python",
      "name": "python",
      "nbconvert_exporter": "python",
      "pygments_lexer": "ipython3",
      "version": "3.9.7"
    },
    "colab": {
      "name": "DIGITAL_MARKETING_DATA.ipynb",
      "provenance": [],
      "include_colab_link": true
    }
  },
  "nbformat": 4,
  "nbformat_minor": 5
}